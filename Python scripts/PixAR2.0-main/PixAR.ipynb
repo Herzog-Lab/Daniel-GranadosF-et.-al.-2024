{
 "cells": [
  {
   "cell_type": "markdown",
   "metadata": {
    "slideshow": {
     "slide_type": "-"
    }
   },
   "source": [
    "# PixAR: Pixel Based Analysis of Rhythms \n",
    "*[Author: Nikhil Updated: 26 Nov 2021]*\n",
    "\n",
    "*This script takes tiff image stacks and performs pixel level analysis of circadian rhythms. You can modify parameters for analysis in the **\"Analysis Parameters\"** cell if required. Refer user manual or video tutorial for more details.\n",
    "<br>\n",
    "**Note:**The script is accompanied by another 'script pixar_replotr' which can be used to replot some of the maps based on user-defined customizations.*\n",
    "<br>\n",
    "#### To run the script:\n",
    "1. Copy the image to the directory where this script is located. **Note: make sure you have the image masked**\n",
    "2. Select **Kernel > Restart&Run all**\n",
    "3. You will be prompted to enter the image filename (**without file extention**), sampling interval(in minutes) and time (**in hours**) at which phasemaps should be calculated."
   ]
  },
  {
   "cell_type": "markdown",
   "metadata": {},
   "source": [
    "### Analysis Parameters (modify if required)"
   ]
  },
  {
   "cell_type": "code",
   "execution_count": 1,
   "metadata": {
    "scrolled": true
   },
   "outputs": [],
   "source": [
    "min_per = 18  #min period (in h) to be analysed\n",
    "max_per = 30  #max period (in h) to be analysed\n",
    "pixels_per_image = 12000 #use lower value to reduce analysis time (if required).\n",
    "file_extention = \".tif\"\n",
    "nper = 200  #number of periods to analyse between min and max per (for CWT analysis only)\n",
    "T_c = 48  #cutoff period (in h) for sinc filter. 48 works for most cases and \n",
    "            #may need to be changed ONLY under some circumstances.Refer pyboat article for more info.\n",
    "smooth = 'default' #Extent of smoothing (sigma for gaussian blur) for metacycle and cwt analysis. \n",
    "                #Default is 1 and works for most cases. But if the traces look extremely noisy even after this, \n",
    "                #change to values to 2 or 3 (without quotes). Unlikely that you will have to modify this or go higher than 3. "
   ]
  },
  {
   "cell_type": "markdown",
   "metadata": {},
   "source": [
    "### Plot Customization (modify if required)\n",
    "**List of colormaps for maps:** https://matplotlib.org/stable/tutorials/colors/colormaps.html\n",
    "<br>\n",
    "**List of colors for background:** https://matplotlib.org/stable/gallery/color/named_colors.html"
   ]
  },
  {
   "cell_type": "code",
   "execution_count": 2,
   "metadata": {},
   "outputs": [],
   "source": [
    "#set colors\n",
    "periodmap_color = \"jet\" #color scale for period maps\n",
    "phasemap_color = \"hsv\" #color scale for phase maps (preferably use cyclic colormaps)\n",
    "map_background_color = 'black' #background color for all plots mentioned above\n",
    "clustermap_color = \"summer_r\" #colormaps for clustermap\n",
    "\n",
    "#set min and max periods for period maps\n",
    "maps_minper = 'auto'\n",
    "maps_maxper = 'auto'\n",
    "\n",
    "#set dpi for saving figures\n",
    "dpi = 300"
   ]
  },
  {
   "cell_type": "markdown",
   "metadata": {},
   "source": [
    "###  Do not change anything in here"
   ]
  },
  {
   "cell_type": "code",
   "execution_count": 3,
   "metadata": {
    "scrolled": true
   },
   "outputs": [
    {
     "ename": "ModuleNotFoundError",
     "evalue": "No module named 'pyboat'",
     "output_type": "error",
     "traceback": [
      "\u001b[1;31m---------------------------------------------------------------------------\u001b[0m",
      "\u001b[1;31mModuleNotFoundError\u001b[0m                       Traceback (most recent call last)",
      "Input \u001b[1;32mIn [3]\u001b[0m, in \u001b[0;36m<cell line: 1>\u001b[1;34m()\u001b[0m\n\u001b[1;32m----> 1\u001b[0m \u001b[43mexec\u001b[49m\u001b[43m(\u001b[49m\u001b[38;5;28;43mopen\u001b[39;49m\u001b[43m(\u001b[49m\u001b[38;5;124;43m'\u001b[39;49m\u001b[38;5;124;43m./Imports/modules_pixar.py\u001b[39;49m\u001b[38;5;124;43m'\u001b[39;49m\u001b[43m)\u001b[49m\u001b[38;5;241;43m.\u001b[39;49m\u001b[43mread\u001b[49m\u001b[43m(\u001b[49m\u001b[43m)\u001b[49m\u001b[43m)\u001b[49m\n\u001b[0;32m      2\u001b[0m exec(\u001b[38;5;28mopen\u001b[39m(\u001b[38;5;124m'\u001b[39m\u001b[38;5;124m./Imports/scaling_factor.py\u001b[39m\u001b[38;5;124m'\u001b[39m)\u001b[38;5;241m.\u001b[39mread())\n\u001b[0;32m      3\u001b[0m exec(\u001b[38;5;28mopen\u001b[39m(\u001b[38;5;124m'\u001b[39m\u001b[38;5;124m./Imports/metacyc_pixar.py\u001b[39m\u001b[38;5;124m'\u001b[39m)\u001b[38;5;241m.\u001b[39mread())\n",
      "File \u001b[1;32m<string>:18\u001b[0m, in \u001b[0;36m<module>\u001b[1;34m\u001b[0m\n",
      "\u001b[1;31mModuleNotFoundError\u001b[0m: No module named 'pyboat'"
     ]
    }
   ],
   "source": [
    "exec(open('./Imports/modules_pixar.py').read())\n",
    "exec(open('./Imports/scaling_factor.py').read())\n",
    "exec(open('./Imports/metacyc_pixar.py').read())\n",
    "print(\"MetaCycle Analysis Completed. CWT Analysis in progress...\")\n",
    "exec(open('./Imports/cwt_pixar.py').read())\n",
    "print(\"CWT Analysis Completed. Crossover Analysis in progress...\")\n",
    "exec(open('./Imports/crossover_pixar.py').read())\n",
    "print(\"Crossover Analysis Completed. Saving Data and Generating Plots...\")"
   ]
  },
  {
   "cell_type": "code",
   "execution_count": null,
   "metadata": {
    "scrolled": false
   },
   "outputs": [],
   "source": [
    "exec(open('./Imports/plotter_pixar.py').read())"
   ]
  },
  {
   "cell_type": "code",
   "execution_count": null,
   "metadata": {},
   "outputs": [],
   "source": [
    "print(\"Analysis completed. Time elapsed: \" + str(datetime.now() - startTime) + \" secs\")"
   ]
  }
 ],
 "metadata": {
  "kernelspec": {
   "display_name": "Python 3 (ipykernel)",
   "language": "python",
   "name": "python3"
  },
  "language_info": {
   "codemirror_mode": {
    "name": "ipython",
    "version": 3
   },
   "file_extension": ".py",
   "mimetype": "text/x-python",
   "name": "python",
   "nbconvert_exporter": "python",
   "pygments_lexer": "ipython3",
   "version": "3.9.12"
  }
 },
 "nbformat": 4,
 "nbformat_minor": 4
}
